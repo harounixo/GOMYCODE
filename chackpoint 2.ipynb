{
 "cells": [
  {
   "cell_type": "code",
   "execution_count": 53,
   "id": "b010dd14",
   "metadata": {
    "scrolled": true
   },
   "outputs": [
    {
     "name": "stdout",
     "output_type": "stream",
     "text": [
      "first nameharoun\n",
      "last namechebaane\n",
      "chebaane haroun\n"
     ]
    }
   ],
   "source": [
    "firstname=str(input(\"first name\"))\n",
    "lastname=str(input(\"last name\"))\n",
    "print (lastname, firstname)"
   ]
  },
  {
   "cell_type": "code",
   "execution_count": 57,
   "id": "06e6a4c7",
   "metadata": {},
   "outputs": [
    {
     "name": "stdout",
     "output_type": "stream",
     "text": [
      "Your number :5\n",
      "615\n"
     ]
    }
   ],
   "source": [
    "n=int(input(\"Your number : \"))\n",
    "print (n+n*11+n*111)"
   ]
  },
  {
   "cell_type": "code",
   "execution_count": 69,
   "id": "d092ff7c",
   "metadata": {},
   "outputs": [
    {
     "name": "stdout",
     "output_type": "stream",
     "text": [
      "your number : 28\n",
      "even number detected\n"
     ]
    }
   ],
   "source": [
    "x=int(input('your number : '))\n",
    "if x%2==0:\n",
    "    print(\"even number detected\")\n",
    "else :\n",
    "    print(\"odd number detected\")"
   ]
  },
  {
   "cell_type": "code",
   "execution_count": 10,
   "id": "2ed6e580",
   "metadata": {},
   "outputs": [
    {
     "name": "stdout",
     "output_type": "stream",
     "text": [
      "2002/2009/2016/2023/\n",
      "2037/2044/2051/2058/\n",
      "2072/2079/2086/2093/\n",
      "2107/2114/2121/2128/\n",
      "2142/2149/2156/2163/\n",
      "2177/2184/2191/2198/\n",
      "2212/2219/2226/2233/\n",
      "2247/2254/2261/2268/\n",
      "2282/2289/2296/2303/\n",
      "2317/2324/2331/2338/\n",
      "2352/2359/2366/2373/\n",
      "2387/2394/2401/2408/\n",
      "2422/2429/2436/2443/\n",
      "2457/2464/2471/2478/\n",
      "2492/2499/2506/2513/\n",
      "2527/2534/2541/2548/\n",
      "2562/2569/2576/2583/\n",
      "2597/2604/2611/2618/\n",
      "2632/2639/2646/2653/\n",
      "2667/2674/2681/2688/\n",
      "2702/2709/2716/2723/\n",
      "2737/2744/2751/2758/\n",
      "2772/2779/2786/2793/\n",
      "2807/2814/2821/2828/\n",
      "2842/2849/2856/2863/\n",
      "2877/2884/2891/2898/\n",
      "2912/2919/2926/2933/\n",
      "2947/2954/2961/2968/\n",
      "2982/2989/2996/3003/\n",
      "3017/3024/3031/3038/\n",
      "3052/3059/3066/3073/\n",
      "3087/3094/3101/3108/\n",
      "3122/3129/3136/3143/\n",
      "3157/3164/3171/3178/\n",
      "3192/3199/"
     ]
    }
   ],
   "source": [
    "for i in range (1999,3201):\n",
    "    if i%7==0:\n",
    "        if i%5==0:\n",
    "            print()\n",
    "        else :\n",
    "            print(i,end=\"/\")\n",
    "        \n",
    "        \n",
    "    \n",
    "   \n",
    "               "
   ]
  },
  {
   "cell_type": "code",
   "execution_count": 130,
   "id": "496462bf",
   "metadata": {
    "scrolled": true
   },
   "outputs": [
    {
     "name": "stdout",
     "output_type": "stream",
     "text": [
      "your number : 7\n",
      "the factorial of  7 is 5040\n"
     ]
    }
   ],
   "source": [
    "x=1\n",
    "number=int(input(\"your number : \"))\n",
    "if number<0:\n",
    "    print(\"factorial does not exist for negative numbers\")\n",
    "else :    \n",
    "    if number==0:\n",
    "        print(\"the factorial of 0 is 1\")\n",
    "    elif number>0:\n",
    "        for i in range (1,number+1):\n",
    "            x=x*i\n",
    "        print(\"the factorial of \",number,\"is\",x)\n",
    "                \n",
    "        \n",
    "        \n",
    "        "
   ]
  },
  {
   "cell_type": "code",
   "execution_count": null,
   "id": "6204236d",
   "metadata": {
    "scrolled": false
   },
   "outputs": [],
   "source": [
    "phrase=str(input(\"your senten : \"))\n",
    "\n",
    "def remove(phrase):\n",
    "    x=\"\"\n",
    "    for i in range (len(phrase)):\n",
    "        if i%2==0:\n",
    "            x=x+phrase[i]\n",
    "    return x\n",
    "print(remove(phrase))\n",
    "        "
   ]
  },
  {
   "cell_type": "code",
   "execution_count": 11,
   "id": "37481762",
   "metadata": {},
   "outputs": [
    {
     "name": "stdout",
     "output_type": "stream",
     "text": [
      "your price : 456\n",
      "your new price is :  319.2\n"
     ]
    }
   ],
   "source": [
    "price=int(input(\"your price : \"))\n",
    "if price>=500:\n",
    "    print(\"your new price is : \",price/2)\n",
    "if  200<=price<500:\n",
    "    print(\"your new price is : \",price*70/100)\n",
    "if price<200:\n",
    "    print(\"your new price is : \",price*90/100)"
   ]
  },
  {
   "cell_type": "code",
   "execution_count": null,
   "id": "b03e2436",
   "metadata": {},
   "outputs": [],
   "source": []
  }
 ],
 "metadata": {
  "kernelspec": {
   "display_name": "Python 3",
   "language": "python",
   "name": "python3"
  },
  "language_info": {
   "codemirror_mode": {
    "name": "ipython",
    "version": 3
   },
   "file_extension": ".py",
   "mimetype": "text/x-python",
   "name": "python",
   "nbconvert_exporter": "python",
   "pygments_lexer": "ipython3",
   "version": "3.8.8"
  }
 },
 "nbformat": 4,
 "nbformat_minor": 5
}
